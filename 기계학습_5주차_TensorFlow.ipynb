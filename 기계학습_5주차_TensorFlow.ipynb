{
  "nbformat": 4,
  "nbformat_minor": 0,
  "metadata": {
    "colab": {
      "private_outputs": true,
      "provenance": [],
      "authorship_tag": "ABX9TyNaibvHuG+wfSYw0lX3npIG",
      "include_colab_link": true
    },
    "kernelspec": {
      "name": "python3",
      "display_name": "Python 3"
    },
    "language_info": {
      "name": "python"
    }
  },
  "cells": [
    {
      "cell_type": "markdown",
      "metadata": {
        "id": "view-in-github",
        "colab_type": "text"
      },
      "source": [
        "<a href=\"https://colab.research.google.com/github/JoongseokPark/machine_learning_2023/blob/main/%EA%B8%B0%EA%B3%84%ED%95%99%EC%8A%B5_5%EC%A3%BC%EC%B0%A8_TensorFlow.ipynb\" target=\"_parent\"><img src=\"https://colab.research.google.com/assets/colab-badge.svg\" alt=\"Open In Colab\"/></a>"
      ]
    },
    {
      "cell_type": "code",
      "execution_count": null,
      "metadata": {
        "id": "FqpK2JsreAbb"
      },
      "outputs": [],
      "source": [
        "import tensorflow as tf\n",
        "import numpy as np\n",
        "import matplotlib.pyplot as plt"
      ]
    },
    {
      "cell_type": "code",
      "source": [
        "a = 1\n",
        "b = 2\n",
        "c = tf.math.add(a,b)\n",
        "c"
      ],
      "metadata": {
        "id": "9t0fR5EAfFTT"
      },
      "execution_count": null,
      "outputs": []
    },
    {
      "cell_type": "code",
      "source": [
        "c.numpy()"
      ],
      "metadata": {
        "id": "vA0Esg4QfdAt"
      },
      "execution_count": null,
      "outputs": []
    },
    {
      "cell_type": "markdown",
      "source": [
        "#스칼라 정의\n",
        "1. rank()\n",
        "2. shape()\n",
        "3. int \n",
        "4. cast() : 자료형 변환"
      ],
      "metadata": {
        "id": "jST3jEb8ffvt"
      }
    },
    {
      "cell_type": "code",
      "source": [
        "c1 = tf.constant(5) #c1 변수에 상수 1 저장\n",
        "c2 = tf.constant(19)\n",
        "print(c1,c2)"
      ],
      "metadata": {
        "id": "hSuFf_0zgDVN"
      },
      "execution_count": null,
      "outputs": []
    },
    {
      "cell_type": "code",
      "source": [
        "f1 = tf.cast(c1,tf.float32) #c1을 실수형으로 변환\n",
        "print(f1)"
      ],
      "metadata": {
        "id": "ChSoBHkRgRad"
      },
      "execution_count": null,
      "outputs": []
    },
    {
      "cell_type": "markdown",
      "source": [
        "\n",
        "\n",
        "1.   add()\n",
        "2.   substract()\n",
        "3. mutiply()\n",
        "4. divide()\n",
        "5. mod() : 나머지\n",
        "6. floordiv() : 몫\n",
        "\n"
      ],
      "metadata": {
        "id": "idydS-L7gn9l"
      }
    },
    {
      "cell_type": "code",
      "source": [
        "d1 = tf.math.mod(c2,c1)\n",
        "print(d1)"
      ],
      "metadata": {
        "id": "CQvCQHNZg5id"
      },
      "execution_count": null,
      "outputs": []
    },
    {
      "cell_type": "markdown",
      "source": [
        "#벡터 정의\n",
        "> 1차원 묶음\n",
        "\n",
        "1. 변수명 = [] : 리스트 생성\n",
        "2. 변수명 = tf.constant() : 텐서 변환"
      ],
      "metadata": {
        "id": "TFPSn9azf8mm"
      }
    },
    {
      "cell_type": "code",
      "source": [
        "ex_list = [10,20,30]\n",
        "ten_list = tf.constant(ex_list)\n",
        "ten_list\n",
        "#데이터 형식 = int32"
      ],
      "metadata": {
        "id": "UipRfrltiqzE"
      },
      "execution_count": null,
      "outputs": []
    },
    {
      "cell_type": "code",
      "source": [
        "num_arr = np.array([10,10,10])\n",
        "ten_arr = tf.constant(num_arr)\n",
        "ten_arr\n",
        "#데이터 형식 = int64"
      ],
      "metadata": {
        "id": "m-USHI3GjRQy"
      },
      "execution_count": null,
      "outputs": []
    },
    {
      "cell_type": "code",
      "source": [
        "ten_arr = tf.constant(num_arr, dtype = tf.int32)"
      ],
      "metadata": {
        "id": "MTbAFoqykIzL"
      },
      "execution_count": null,
      "outputs": []
    },
    {
      "cell_type": "code",
      "source": [
        "add_shape = tf.math.add(ten_list, ten_arr)\n",
        "add_shape\n",
        "#두 시리즈의 형식이 다르기 때문에 더해지지 않는다"
      ],
      "metadata": {
        "id": "Sf1OBstjjd0I"
      },
      "execution_count": null,
      "outputs": []
    },
    {
      "cell_type": "code",
      "source": [
        "add2 = ten_list + ten_arr\n",
        "#상동"
      ],
      "metadata": {
        "id": "hCPWby-Sj4ML"
      },
      "execution_count": null,
      "outputs": []
    },
    {
      "cell_type": "code",
      "source": [
        "A = ten_list + ten_arr\n",
        "S = ten_list - ten_arr\n",
        "D = ten_list * ten_arr\n",
        "Q = ten_list / ten_arr\n",
        "W = ten_list % ten_arr"
      ],
      "metadata": {
        "id": "vONVcdJmkAZZ"
      },
      "execution_count": null,
      "outputs": []
    },
    {
      "cell_type": "code",
      "source": [
        "A.numpy()\n",
        "Q.numpy()\n",
        "W.numpy()"
      ],
      "metadata": {
        "id": "mTZQvTmnkzFZ"
      },
      "execution_count": null,
      "outputs": []
    },
    {
      "cell_type": "markdown",
      "source": [
        "#행렬 정의\n",
        "> 1차원 묶음의 2차원 방향 묶음\n",
        "\n",
        "1. tf.stack( [   ] ) "
      ],
      "metadata": {
        "id": "e68b6K2yk_DT"
      }
    },
    {
      "cell_type": "code",
      "source": [
        "M_a = [1,0]\n",
        "M_b = [-1,2]\n",
        "M_c = [5,7]"
      ],
      "metadata": {
        "id": "iy-pcJj9lTEL"
      },
      "execution_count": null,
      "outputs": []
    },
    {
      "cell_type": "code",
      "source": [
        "M_A = tf.stack([M_a,M_b,M_c])\n",
        "M_A"
      ],
      "metadata": {
        "id": "P2bJcdzmlcwr"
      },
      "execution_count": null,
      "outputs": []
    },
    {
      "cell_type": "markdown",
      "source": [
        "#텐서 정의\n",
        "> 2차원 행렬 이후, 고차원으로 진행된 묶음\n",
        "\n",
        "- 차원의 제한이 없음"
      ],
      "metadata": {
        "id": "IOujju0ym69L"
      }
    },
    {
      "cell_type": "code",
      "source": [
        "M_q = [[10,20,30],[30,40,50]]\n",
        "M_w = [[20,40,60],[60,80,90]]"
      ],
      "metadata": {
        "id": "kzWSPQSBmArv"
      },
      "execution_count": null,
      "outputs": []
    },
    {
      "cell_type": "code",
      "source": [
        "M_Q = tf.stack([M_q,M_w])\n",
        "M_Q"
      ],
      "metadata": {
        "id": "m92wVDEimLpf"
      },
      "execution_count": null,
      "outputs": []
    },
    {
      "cell_type": "code",
      "source": [
        "v_1 = tf.constant([1,2,3,4])\n",
        "v_2 = tf.constant([1,2,3,4])\n",
        "v_3 = tf.constant([1,2,3,4])\n",
        "v_4 = tf.constant([1,2,3,4])\n",
        "v_5 = tf.constant([1,2,3,4])\n",
        "v_6 = tf.constant([1,2,3,4])"
      ],
      "metadata": {
        "id": "myBkA2X4sjlB"
      },
      "execution_count": null,
      "outputs": []
    },
    {
      "cell_type": "code",
      "source": [
        "M_1 = tf.stack([v_1,v_2])\n",
        "M_2 = tf.stack([v_3,v_4])\n",
        "M_3 = tf.stack([v_5,v_6])"
      ],
      "metadata": {
        "id": "0mFCK5D3tX8X"
      },
      "execution_count": null,
      "outputs": []
    },
    {
      "cell_type": "code",
      "source": [
        "T_m = tf.stack([M_1,M_2,M_3])\n",
        "T_m"
      ],
      "metadata": {
        "id": "G-DrxY4Ks8Kf"
      },
      "execution_count": null,
      "outputs": []
    },
    {
      "cell_type": "code",
      "source": [
        "x = range(1,10)\n",
        "x = list(x)\n",
        "x1 = tf.constant(x)\n",
        "x1"
      ],
      "metadata": {
        "id": "BFPBLRultqu3"
      },
      "execution_count": null,
      "outputs": []
    },
    {
      "cell_type": "code",
      "source": [
        "x2 = tf.reshape(x1,[3,-1]) #3차원 행렬 생성\n",
        "x2"
      ],
      "metadata": {
        "id": "A7TJYDZ_t_AH"
      },
      "execution_count": null,
      "outputs": []
    },
    {
      "cell_type": "markdown",
      "source": [
        "#파이썬 슬라이싱 고급\n",
        "1. 행렬 이상의 묶음인 경우\n",
        "\n",
        "> 묶음명[ 행 슬라이싱  , 열 슬라이싱 ]\n",
        "\n",
        "- [ : , :1 ] = 행의 전부와 열의 첫번째 "
      ],
      "metadata": {
        "id": "c6i2ZscrvH_h"
      }
    },
    {
      "cell_type": "code",
      "source": [
        "x2[:2] #2열까지"
      ],
      "metadata": {
        "id": "QB1SQC9SuVdY"
      },
      "execution_count": null,
      "outputs": []
    },
    {
      "cell_type": "code",
      "source": [
        "x2[:,:1] #각 행의 첫번째 열까지"
      ],
      "metadata": {
        "id": "dLlG2Jzkuamo"
      },
      "execution_count": null,
      "outputs": []
    },
    {
      "cell_type": "code",
      "source": [
        "x2[:,-1:] #각 행의 마지막 열만"
      ],
      "metadata": {
        "id": "yzXJbsyvu98c"
      },
      "execution_count": null,
      "outputs": []
    },
    {
      "cell_type": "code",
      "source": [
        "bundle = tf.constant(range(0,30))\n",
        "re_bundle = tf.reshape(bundle, [3,10])\n",
        "re_bundle"
      ],
      "metadata": {
        "id": "e1u5apJDv9IA"
      },
      "execution_count": null,
      "outputs": []
    },
    {
      "cell_type": "code",
      "source": [
        "re2_bundle = tf.reshape(bundle, [-1,5])\n",
        "#5개 열로 전체 개수에 맞게 행으로 변환\n",
        "re2_bundle"
      ],
      "metadata": {
        "id": "Gv3UC3H8wZx2"
      },
      "execution_count": null,
      "outputs": []
    },
    {
      "cell_type": "code",
      "source": [
        "un_bundle = tf.reshape(re2_bundle, [-1])\n",
        "#행렬 형태를 일차원 배열로 변환\n",
        "un_bundle"
      ],
      "metadata": {
        "id": "1OeEiYp3w3tr"
      },
      "execution_count": null,
      "outputs": []
    },
    {
      "cell_type": "markdown",
      "source": [
        "**슬라이싱으로 재배열을 할 때 -1을 사용하면, 자동으로 맞는 개수로 정해진다.**"
      ],
      "metadata": {
        "id": "L6Li1MGaxOO3"
      }
    },
    {
      "cell_type": "markdown",
      "source": [
        "#자동미분\n",
        "- 산점도를 통해 구한 회귀직선(혹은 곡선)\n",
        "> 식은 y = ax + b\n",
        "\n",
        "- 손실함수(MSE, Mean of Square of Error)\n",
        "> 회귀선을 구할 때 데이터의 y값과 회귀선의 y값의 차이를 제곱한 값의 총합의 평균을 구한 것\n",
        "\n",
        "- MSE의 이차함수\n",
        "> 이차함수의 미분이 0, 즉 오차가 가장 작은 부분을 구함\n",
        "\n",
        "- 인공지능에서는 학습의 반복 중에 오차가 가장 작은 모델을 구하기 위해 사용된다\n"
      ],
      "metadata": {
        "id": "nX8oMB1RxoXO"
      }
    },
    {
      "cell_type": "code",
      "source": [
        "#데이터 셋 생성\n",
        "g = tf.random.Generator.from_seed(2020) #랜덤 수 생성\n",
        "x = g.normal(shape=(10,)) #10개 묶음 \n",
        "a = 3\n",
        "b = -2\n",
        "y = a * x - b"
      ],
      "metadata": {
        "id": "J0FCfZMfxh5L"
      },
      "execution_count": null,
      "outputs": []
    },
    {
      "cell_type": "code",
      "source": [
        "x.numpy()"
      ],
      "metadata": {
        "id": "oU3W_EvZ1WVR"
      },
      "execution_count": null,
      "outputs": []
    },
    {
      "cell_type": "code",
      "source": [
        "y.numpy()"
      ],
      "metadata": {
        "id": "DVDy0h9I1nHq"
      },
      "execution_count": null,
      "outputs": []
    },
    {
      "cell_type": "code",
      "source": [
        "m2 = tf.constant([[1,1],[2,2]])\n",
        "m2\n",
        "\n",
        "mean = tf.math.reduce_mean(m2)\n",
        "mean"
      ],
      "metadata": {
        "id": "D90Sc7wR1yiR"
      },
      "execution_count": null,
      "outputs": []
    },
    {
      "cell_type": "code",
      "source": [
        "#loss 함수 정의\n",
        "def cal_mse(x,y,a,b):\n",
        "  y_pred = a * x + b\n",
        "  squared_error = (y_pred - y) ** 2\n",
        "  mean_squared_error = tf.reduce_mean(squared_error)\n",
        "\n",
        "  return mean_squared_error"
      ],
      "metadata": {
        "id": "zDOisyvm_Bsl"
      },
      "execution_count": null,
      "outputs": []
    },
    {
      "cell_type": "code",
      "source": [
        "a = tf.Variable(0,0)\n",
        "b = tf.Variable(0,0)\n",
        "\n",
        "EPOCHS = 300\n",
        "\n",
        "for epoch in range(1, EPOCHS+1):\n",
        "  with tf.GradientTape() as tape:\n",
        "    mse = cal_mse(x,y,a,b)\n",
        "  if mse < 0.00001:\n",
        "    break\n",
        "  grade = tape.gradient(mse, {'a':a,'b':b})\n",
        "  d_a, d_b = grade['a'], grade['b']\n",
        "  a.assign_sub(d_a * 0.05) #a = a - d_a * 0.05(학습률) \n",
        "  b.assign_sub(d_b * 0.05)\n",
        "  \n",
        "  if epoch % 20 == 0:\n",
        "    print(\"EPOCH %d , MSE : %.4f , a : %.2f , b : %.2f\",epoch, mse, a,b)"
      ],
      "metadata": {
        "id": "wqZ20Kfa_w9A"
      },
      "execution_count": null,
      "outputs": []
    },
    {
      "cell_type": "code",
      "source": [
        "# 생성된 예측선과 생성된 점 시각화 \n",
        "\n",
        "y_predict = 3 * x - 2\n",
        "plt.scatter(x,y)\n",
        "plt.plot(x,y_predict, color = 'r')\n",
        "plt.show()"
      ],
      "metadata": {
        "id": "FguEgLldFMvm"
      },
      "execution_count": null,
      "outputs": []
    },
    {
      "cell_type": "code",
      "source": [
        "# 데이터셋 생성 ( 노이즈 포함 )\n",
        "\n",
        "g = tf.random.Generator.from_seed(2020) \n",
        "x1 = g.normal(shape=(10,))\n",
        "noise = np.random.normal(0,1,size = (10,))\n",
        "y = 3 * x - 2 + noise"
      ],
      "metadata": {
        "id": "1gjDDcUPDwLb"
      },
      "execution_count": null,
      "outputs": []
    },
    {
      "cell_type": "code",
      "source": [
        "a = tf.Variable(0,0)\n",
        "b = tf.Variable(0,0)\n",
        "\n",
        "EPOCHS = 300\n",
        "\n",
        "for epoch in range(1, EPOCHS+1):\n",
        "  with tf.GradientTape() as tape:\n",
        "    mse = cal_mse(x1,y,a,b)\n",
        "  if mse < 0.00001:\n",
        "    break\n",
        "  grade = tape.gradient(mse, {'a':a,'b':b})\n",
        "  d_a, d_b = grade['a'], grade['b']\n",
        "  a.assign_sub(d_a * 0.05) #a = a - d_a * 0.05(학습률) \n",
        "  b.assign_sub(d_b * 0.05)\n",
        "  \n",
        "  if epoch % 20 == 0:\n",
        "    print(\"EPOCH %d , MSE : %.4f , a : %.2f , b : %.2f\",epoch, mse, a,b)"
      ],
      "metadata": {
        "id": "Xkcl4M_oEQya"
      },
      "execution_count": null,
      "outputs": []
    }
  ]
}