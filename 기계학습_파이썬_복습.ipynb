{
  "nbformat": 4,
  "nbformat_minor": 0,
  "metadata": {
    "colab": {
      "private_outputs": true,
      "provenance": [],
      "authorship_tag": "ABX9TyP3HGBSbUAToQHMtCwM9Ra/",
      "include_colab_link": true
    },
    "kernelspec": {
      "name": "python3",
      "display_name": "Python 3"
    },
    "language_info": {
      "name": "python"
    }
  },
  "cells": [
    {
      "cell_type": "markdown",
      "metadata": {
        "id": "view-in-github",
        "colab_type": "text"
      },
      "source": [
        "<a href=\"https://colab.research.google.com/github/JoongseokPark/machine_learning_2023/blob/main/%EA%B8%B0%EA%B3%84%ED%95%99%EC%8A%B5_%ED%8C%8C%EC%9D%B4%EC%8D%AC_%EB%B3%B5%EC%8A%B5.ipynb\" target=\"_parent\"><img src=\"https://colab.research.google.com/assets/colab-badge.svg\" alt=\"Open In Colab\"/></a>"
      ]
    },
    {
      "cell_type": "markdown",
      "source": [
        "데이터 유형 \n",
        "- 숫자형 - 정수형, 실수형\n",
        "- 문자형 - 문자, 문자열\n",
        "\n",
        "인덱싱\n",
        "- 0부터 시작하는 리스트 등의 셈법\n",
        "- 가장 마지막은 -1로 정의\n",
        "- 슬라이싱으로 구분 가능\n",
        ">(i; j; k)"
      ],
      "metadata": {
        "id": "Tswu1yqdVKRO"
      }
    },
    {
      "cell_type": "code",
      "execution_count": null,
      "metadata": {
        "id": "zlZd3ypMVA3l"
      },
      "outputs": [],
      "source": [
        "a = 3\n",
        "b = 5.7\n",
        "\n",
        "type(a)"
      ]
    },
    {
      "cell_type": "markdown",
      "source": [
        "사용자 입력\n",
        "- 변수 = input()\n",
        "\n",
        "화면 출력\n",
        "- print(내용)"
      ],
      "metadata": {
        "id": "TRwCOdGXWqRF"
      }
    },
    {
      "cell_type": "code",
      "source": [
        "x = input()\n",
        "\n",
        "x \n",
        "#x에 숫자를 입력하더라도 문자형으로 받는다"
      ],
      "metadata": {
        "id": "O8g4nP9vWnUC"
      },
      "execution_count": null,
      "outputs": []
    },
    {
      "cell_type": "code",
      "source": [
        "x = int(input())\n",
        "y = int(input())\n",
        "\n",
        "print(\"{} + {} = {}\".format(x,y,x+y)) #{} .format 형식\n",
        "print(x, \"+\", y, \"=\", x+y) #이어붙이기 형식\n",
        "print(\"%d + %d = %d\"%(x,y,x+y)) #%출력 방식 [%d = 정수, %f = 실수, %s = 문자]"
      ],
      "metadata": {
        "id": "vitZF3bsYFs4"
      },
      "execution_count": null,
      "outputs": []
    },
    {
      "cell_type": "markdown",
      "source": [
        "# 인덱싱"
      ],
      "metadata": {
        "id": "SkRpa7rNar5X"
      }
    },
    {
      "cell_type": "code",
      "source": [
        "sentance = \"Hello World\"\n",
        "sentance[4] #문자열의 5번째 글자만 출력"
      ],
      "metadata": {
        "id": "_nuxqk_vauka"
      },
      "execution_count": null,
      "outputs": []
    },
    {
      "cell_type": "code",
      "source": [
        "sentance[-1:-3:-1] \n",
        "#가장 뒤의 글자부터 뒤에서 세번째 글자까지 역순으로 표현\n",
        "\n",
        "sentance[0::3] #세칸씩 띄어 표현"
      ],
      "metadata": {
        "id": "Yn2mLKrobRab"
      },
      "execution_count": null,
      "outputs": []
    },
    {
      "cell_type": "markdown",
      "source": [
        "집합의 종류\n",
        "- 리스트 = []안에 표현, 유동적\n",
        "- 튜플 = ()안에 표현, 고정적\n",
        "- 딕셔너리(사전) = {key:data} 형식으로 구성\n",
        "> 하나의 키는 여러 데이터를 표현할 수 있다"
      ],
      "metadata": {
        "id": "XwO1zQjtcFov"
      }
    },
    {
      "cell_type": "code",
      "source": [
        "dictionally = {\"name\":\"joongseok\",\"Age\":[22,25,11,15]}\n",
        "dictionally[\"Age\"]"
      ],
      "metadata": {
        "id": "kHUOOMa2cVKY"
      },
      "execution_count": null,
      "outputs": []
    },
    {
      "cell_type": "code",
      "source": [
        "print(dictionally.keys()) #정보를 불러오는 열쇠\n",
        "print(dictionally.values()) #열쇠에 이어진 값\n",
        "dictionally.items() #딕셔너리에 있는 모든 열쇠와 값"
      ],
      "metadata": {
        "id": "knJ8NaT6dxyq"
      },
      "execution_count": null,
      "outputs": []
    },
    {
      "cell_type": "markdown",
      "source": [
        "산술연산자\n",
        "- \"+\" 사\n",
        "- \"-\" 칙\n",
        "- \"*\" 연\n",
        "- \"/\" 산\n",
        "- // = 몫\n",
        "- % = 나머지\n",
        "- ** = 제곱수 (제곱근은 numpy라이브러리)"
      ],
      "metadata": {
        "id": "I9I22VLciqC_"
      }
    },
    {
      "cell_type": "code",
      "source": [
        "x = 3\n",
        "y = 10\n",
        "z = 7\n",
        "\n",
        "print(x/z)\n",
        "round(x/z,3)"
      ],
      "metadata": {
        "id": "-KrHUPVujL1L"
      },
      "execution_count": null,
      "outputs": []
    },
    {
      "cell_type": "code",
      "source": [
        "y//x"
      ],
      "metadata": {
        "id": "WQQiIh4Wj2cQ"
      },
      "execution_count": null,
      "outputs": []
    },
    {
      "cell_type": "markdown",
      "source": [
        "논리연산자\n",
        "- 출력하는 값이 항상 논리형(True, False 중 하나)\n",
        "- == 같은가? -> 결과에 따라 True,False을 출력\n",
        "- != 다른가?\n",
        "- <, <= 앞의 값이 뒤의 값보다 작은가? 작거나 같은가?"
      ],
      "metadata": {
        "id": "6Y6tN8yjkBAL"
      }
    },
    {
      "cell_type": "code",
      "source": [
        "b = (10 > 5)\n",
        "b"
      ],
      "metadata": {
        "id": "yTuYHw7fkf4r"
      },
      "execution_count": null,
      "outputs": []
    },
    {
      "cell_type": "markdown",
      "source": [
        "조건문\n",
        "- 조건에 만족할 경우 들여쓰기 안의 문장을 실행\n",
        "> if(조건): \n",
        "\n",
        "- 여러개의 조건을 확인해야 할 때는 elif와 else 사용\n",
        "> 구성 = if + elif(여러개 가능) + else(필수 X)\n"
      ],
      "metadata": {
        "id": "Nkzk6IW0lI8P"
      }
    },
    {
      "cell_type": "code",
      "source": [
        "num = int(input())\n",
        "\n",
        "if(num > 10):\n",
        "  print(\"{}는 10보다 크다\\n\".format(num))\n",
        "elif(num < 10):\n",
        "  print(\"{}는 10보다 작다\\n\".format(num))\n",
        "else:\n",
        "  print(\"{}는 10이다\\n\".format(num))"
      ],
      "metadata": {
        "id": "STlo2DPBlvEr"
      },
      "execution_count": null,
      "outputs": []
    },
    {
      "cell_type": "code",
      "source": [
        "num = int(input())\n",
        "\n",
        "#---------조건1 묶음-------\n",
        "if num % 2 == 0:\n",
        "  print(\"짝수입니다\\n\")\n",
        "else:\n",
        "  print(\"짝수가 아닙니다\\n\")\n",
        "#---------조건1 묶음-------\n",
        "  \n",
        "\n",
        "#---------조건2 묶음-------\n",
        "if num % 2 != 0:\n",
        "  print(\"홀수입니다\\n\")\n",
        "else:\n",
        "  print(\"홀수가 아닙니다\\n\")\n",
        "#---------조건2 묶음-------"
      ],
      "metadata": {
        "id": "mx8t_Abarb4Z"
      },
      "execution_count": null,
      "outputs": []
    },
    {
      "cell_type": "markdown",
      "source": [
        "과제\n",
        "- 학점 출력\n",
        "- 로그인 기능\n",
        "- 태어난 해의 띠 출력\n",
        "- 소수(PRIME NUMBER) 찾기\n",
        "- 윤년 검색"
      ],
      "metadata": {
        "id": "l7N2ZuBWs81K"
      }
    }
  ]
}