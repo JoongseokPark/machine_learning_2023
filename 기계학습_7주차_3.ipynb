{
  "nbformat": 4,
  "nbformat_minor": 0,
  "metadata": {
    "colab": {
      "private_outputs": true,
      "provenance": [],
      "authorship_tag": "ABX9TyMsKFNvI9FVQI5Cq1k5K9B1",
      "include_colab_link": true
    },
    "kernelspec": {
      "name": "python3",
      "display_name": "Python 3"
    },
    "language_info": {
      "name": "python"
    }
  },
  "cells": [
    {
      "cell_type": "markdown",
      "metadata": {
        "id": "view-in-github",
        "colab_type": "text"
      },
      "source": [
        "<a href=\"https://colab.research.google.com/github/JoongseokPark/machine_learning_2023/blob/main/%EA%B8%B0%EA%B3%84%ED%95%99%EC%8A%B5_7%EC%A3%BC%EC%B0%A8_3.ipynb\" target=\"_parent\"><img src=\"https://colab.research.google.com/assets/colab-badge.svg\" alt=\"Open In Colab\"/></a>"
      ]
    },
    {
      "cell_type": "markdown",
      "source": [
        "##가중치의 초기화\n",
        "\n",
        "초기 가중치의 설정은 학습 효율에 많은 영향을 끼친다 \n",
        "\n",
        "1. 초기 가중치가 모두 0인 경우\n",
        "> 다음 레이어로 넘기는 값이 0이 되어 가중치 변화가 없다\n",
        "2. 초기 가중치가 랜덤한 경우\n",
        "> 최종적인 값들이 0.5에 치우쳐 여러층의 레이어를 사용하는 의미가 없어진다 \n",
        "3. 사용하는 초기화 방법은 활성화 함수에 따라 다르다\n",
        "> tanh() , sigmoid() = xavier initialization\n",
        "> ReLU() = h initialization\n"
      ],
      "metadata": {
        "id": "hKs8REqb001i"
      }
    },
    {
      "cell_type": "markdown",
      "source": [
        "##Regularization(규제)\n",
        "\n",
        "- 과대적합 방지 방법\n",
        "- 특정 가중치가 한없이 커지는 것을 방지\n",
        "\n",
        "1. L1 Regularization \n",
        ">가중치 업데이트 시 작은 가중치는 0으로 수렴하고, 중요한 가중치만 남김\n",
        "2. L2 Regularization\n",
        ">L1이 가중치를 0으로 수렴하게 만들어 미분 불가능한 것을 보완하여, 가중치의 크기가 직접적으로 영향을 끼치도록 한다 "
      ],
      "metadata": {
        "id": "X18-I55q2yGJ"
      }
    },
    {
      "cell_type": "markdown",
      "source": [
        "##Drop Out\n",
        "- 과대적합 방지 방법\n",
        "- 은닉층의 노드에 탈락확률 P를 적용한다\n",
        "- 매 학습마다 확률로 노드가 탈락하여, 노드가 모든 학습을 진행하지 않아 과대적합이 적어진다  "
      ],
      "metadata": {
        "id": "sF-dK2Qt4Cl5"
      }
    },
    {
      "cell_type": "code",
      "execution_count": null,
      "metadata": {
        "id": "F1SIG5JIz--c"
      },
      "outputs": [],
      "source": [
        "import tensorflow as tf\n",
        "import numpy as np\n",
        "import matplotlib.pyplot as plt"
      ]
    },
    {
      "cell_type": "code",
      "source": [
        "#데이터셋 로드 \n",
        "mnist = tf.keras.datasets.mnist\n",
        "(x_train, y_train),(x_test, y_test) = mnist.load_data()"
      ],
      "metadata": {
        "id": "MxQX8YJq5Mog"
      },
      "execution_count": null,
      "outputs": []
    },
    {
      "cell_type": "markdown",
      "source": [
        "# 가중치 초기화 "
      ],
      "metadata": {
        "id": "19OkiyKt5_1f"
      }
    },
    {
      "cell_type": "code",
      "source": [
        "#256개 노드를 활성화 함수와 함께 초기화 \n",
        "#kernel_initializer = 'uniform'\n",
        "dense = tf.keras.layers.Dense(256,kernel_initializer='uniform',activation='relu')"
      ],
      "metadata": {
        "id": "WWcaYvCj5ebp"
      },
      "execution_count": null,
      "outputs": []
    },
    {
      "cell_type": "code",
      "source": [
        "#kernel_initializer = 'normal'\n",
        "dense = tf.keras.layers.Dense(256,kernel_initializer='normal',activation='relu')"
      ],
      "metadata": {
        "id": "XagUTpwn6hRw"
      },
      "execution_count": null,
      "outputs": []
    },
    {
      "cell_type": "code",
      "source": [
        "#kernel_initializer = 'he_normal'\n",
        "dense = tf.keras.layers.Dense(256,kernel_initializer='he_normal',activation='relu')"
      ],
      "metadata": {
        "id": "y_bEjTNp6qmY"
      },
      "execution_count": null,
      "outputs": []
    },
    {
      "cell_type": "code",
      "source": [
        "model = tf.keras.Sequential([\n",
        "    tf.keras.layers.Flatten(input_shape=(28,28)),\n",
        "    tf.keras.layers.Dense(64,activation='relu'),\n",
        "    tf.keras.layers.Dense(32,activation='relu'),\n",
        "    tf.keras.layers.Dense(10,activation='softmax')\n",
        "])\n",
        "model.summary()"
      ],
      "metadata": {
        "id": "8yMvPPTx7RIu"
      },
      "execution_count": null,
      "outputs": []
    },
    {
      "cell_type": "code",
      "source": [
        "model.compile(optimizer='adam',loss='sparse_categorical_crossentropy',metrics=['accuracy'])\n",
        "history = model.fit(x_train,y_train,validation_data=(x_test,y_test),epochs=10)"
      ],
      "metadata": {
        "id": "1EzHAMJF8G2m"
      },
      "execution_count": null,
      "outputs": []
    },
    {
      "cell_type": "code",
      "source": [
        "#가중치 초기 설정을 해준 경우\n",
        "model2 = tf.keras.Sequential([\n",
        "    tf.keras.layers.Flatten(input_shape=(28,28)),\n",
        "    tf.keras.layers.Dense(64,kernel_initializer='he_normal',activation='relu'),\n",
        "    tf.keras.layers.Dense(32,activation='relu'),\n",
        "    tf.keras.layers.Dense(10,activation='softmax')\n",
        "])\n",
        "model2.summary()"
      ],
      "metadata": {
        "id": "DQBLpR2i83yu"
      },
      "execution_count": null,
      "outputs": []
    },
    {
      "cell_type": "code",
      "source": [
        "model2.compile(optimizer='adam',loss='sparse_categorical_crossentropy',metrics=['accuracy'])\n",
        "history2 = model2.fit(x_train,y_train,validation_data=(x_test,y_test),epochs=10)"
      ],
      "metadata": {
        "id": "TVpSs0RQ9R-e"
      },
      "execution_count": null,
      "outputs": []
    },
    {
      "cell_type": "code",
      "source": [
        "#두 모델 비교\n",
        "plt.figure(figsize=(5,3))\n",
        "plt.plot(np.arange(1,11),history.history['val_loss'],color = 'red',label='No Setting')\n",
        "plt.plot(np.arange(1,11),history2.history['val_loss'],color = 'blue',label='He init')\n",
        "plt.legend()\n",
        "plt.show()"
      ],
      "metadata": {
        "id": "Ex-2vtZN9gZs"
      },
      "execution_count": null,
      "outputs": []
    },
    {
      "cell_type": "markdown",
      "source": [
        "# Regularization\n",
        "1. L1\n",
        "> 가중치의 절대값에 상수를 곱한(0.001) 비용이 추가\n",
        "2. L2 \n",
        "> 가중치의 제곱에 상수를 곱한(0.001) 비용이 추가"
      ],
      "metadata": {
        "id": "uFU_sfRt-27d"
      }
    },
    {
      "cell_type": "code",
      "source": [
        "#규제 L2 적용 \n",
        "regula = tf.keras.regularizers.l2(0.001)\n",
        "model_L2 = tf.keras.Sequential([\n",
        "    tf.keras.layers.Flatten(input_shape=(28,28)),\n",
        "    tf.keras.layers.Dense(64,kernel_initializer='normal',kernel_regularizer=regula,activation='relu'),\n",
        "    tf.keras.layers.Dense(32,kernel_initializer='normal',kernel_regularizer=regula,activation='relu'),\n",
        "    tf.keras.layers.Dense(10,activation='softmax')\n",
        "])\n",
        "model_L2.summary()"
      ],
      "metadata": {
        "id": "nl7_KHZK_emG"
      },
      "execution_count": null,
      "outputs": []
    },
    {
      "cell_type": "code",
      "source": [
        "model_L2.compile(optimizer='adam',loss='sparse_categorical_crossentropy',metrics=['accuracy'])\n",
        "historyL2 = model_L2.fit(x_train,y_train,validation_data=(x_test,y_test),epochs=10)"
      ],
      "metadata": {
        "id": "DV6ENDIwAV7r"
      },
      "execution_count": null,
      "outputs": []
    },
    {
      "cell_type": "code",
      "source": [
        "#규제 L1 적용 \n",
        "regula = tf.keras.regularizers.l1(0.001)\n",
        "model_L1 = tf.keras.Sequential([\n",
        "    tf.keras.layers.Flatten(input_shape=(28,28)),\n",
        "    tf.keras.layers.Dense(64,kernel_initializer='normal',kernel_regularizer=regula,activation='relu'),\n",
        "    tf.keras.layers.Dense(32,kernel_initializer='normal',kernel_regularizer=regula,activation='relu'),\n",
        "    tf.keras.layers.Dense(10,activation='softmax')\n",
        "])\n",
        "model_L1.summary()"
      ],
      "metadata": {
        "id": "CC1r4rG8BJBC"
      },
      "execution_count": null,
      "outputs": []
    },
    {
      "cell_type": "code",
      "source": [
        "model_L1.compile(optimizer='adam',loss='sparse_categorical_crossentropy',metrics=['accuracy'])\n",
        "historyL1 = model_L1.fit(x_train,y_train,validation_data=(x_test,y_test),epochs=10)"
      ],
      "metadata": {
        "id": "hvXXIKoMBP7-"
      },
      "execution_count": null,
      "outputs": []
    },
    {
      "cell_type": "code",
      "source": [
        "plt.figure(figsize=(5,3))\n",
        "plt.plot(np.arange(1,11),history.history['val_loss'],color = 'red',label='No Setting')\n",
        "plt.plot(np.arange(1,11),historyL2.history['val_loss'],color = 'blue',label='L2')\n",
        "plt.plot(np.arange(1,11),historyL1.history['val_loss'],color = 'green',label='L1')\n",
        "plt.legend()\n",
        "plt.show()"
      ],
      "metadata": {
        "id": "QMKHm3gABZvS"
      },
      "execution_count": null,
      "outputs": []
    },
    {
      "cell_type": "markdown",
      "source": [
        "## Drop Out\n",
        "1. 노드가 확률적으로 학습에 참여하지 않는다 \n",
        "2. Regularization의 방법중 하나 "
      ],
      "metadata": {
        "id": "0NxPeVykBoVX"
      }
    },
    {
      "cell_type": "code",
      "source": [
        "regula = tf.keras.regularizers.l1(0.01)\n",
        "model_Drop = tf.keras.Sequential([\n",
        "    tf.keras.layers.Flatten(input_shape=(28,28)),\n",
        "    tf.keras.layers.Dense(64,kernel_initializer='normal',kernel_regularizer=regula,activation='relu'),\n",
        "    tf.keras.layers.Dropout(0.2),\n",
        "    tf.keras.layers.Dense(32,kernel_initializer='normal',kernel_regularizer=regula,activation='relu'),\n",
        "    tf.keras.layers.Dropout(0.2),\n",
        "    tf.keras.layers.Dense(10,activation='softmax')\n",
        "])\n",
        "model_Drop.summary()"
      ],
      "metadata": {
        "id": "raHkuBZZB32h"
      },
      "execution_count": null,
      "outputs": []
    },
    {
      "cell_type": "code",
      "source": [
        "model_Drop.compile(optimizer='adam',loss='sparse_categorical_crossentropy',metrics=['accuracy'])\n",
        "historyDrop = model_Drop.fit(x_train,y_train,validation_data=(x_test,y_test),epochs=10)"
      ],
      "metadata": {
        "id": "XUMJNEdyCo3t"
      },
      "execution_count": null,
      "outputs": []
    },
    {
      "cell_type": "code",
      "source": [
        "plt.figure(figsize=(5,3))\n",
        "plt.plot(np.arange(1,11),history.history['val_loss'],color = 'red',label='No Setting')\n",
        "plt.plot(np.arange(1,11),historyDrop.history['val_loss'],color = 'blue',label='Dropout')\n",
        "plt.plot(np.arange(1,11),historyL1.history['val_loss'],color = 'green',label='L1')\n",
        "plt.legend()\n",
        "plt.show()"
      ],
      "metadata": {
        "id": "Lv6Xyc4ZDFPn"
      },
      "execution_count": null,
      "outputs": []
    },
    {
      "cell_type": "markdown",
      "source": [
        "## Batch Normalization(배치 정규화)\n",
        "\n",
        "1. 각 층에서 넘겨주는 값을 조정 "
      ],
      "metadata": {
        "id": "GR9OqJ09DcGG"
      }
    },
    {
      "cell_type": "code",
      "source": [
        "model_Batch = tf.keras.Sequential([\n",
        "    tf.keras.layers.Flatten(input_shape=(28,28)),\n",
        "    tf.keras.layers.Dense(64,activation='relu'),\n",
        "    tf.keras.layers.BatchNormalization(),\n",
        "    tf.keras.layers.Dense(32,activation='relu'),\n",
        "    tf.keras.layers.BatchNormalization(),\n",
        "    tf.keras.layers.Dense(10,activation='softmax')\n",
        "])\n",
        "model_Batch.summary()"
      ],
      "metadata": {
        "id": "cXrWnn6ODuEL"
      },
      "execution_count": null,
      "outputs": []
    },
    {
      "cell_type": "code",
      "source": [
        "model_Batch.compile(optimizer='adam',loss='sparse_categorical_crossentropy',metrics=['accuracy'])\n",
        "historyBatch = model_Batch.fit(x_train,y_train,validation_data=(x_test,y_test),epochs=10)"
      ],
      "metadata": {
        "id": "hHGg-gUIEJbv"
      },
      "execution_count": null,
      "outputs": []
    },
    {
      "cell_type": "code",
      "source": [
        "plt.figure(figsize=(5,3))\n",
        "plt.plot(np.arange(1,11),history.history['val_loss'],color = 'red',label='No Setting')\n",
        "plt.plot(np.arange(1,11),historyBatch.history['val_loss'],color = 'blue',label='Batch')\n",
        "plt.legend()\n",
        "plt.show()"
      ],
      "metadata": {
        "id": "OsSjwXoHEc33"
      },
      "execution_count": null,
      "outputs": []
    },
    {
      "cell_type": "markdown",
      "source": [
        "## Activation Function\n",
        "\n",
        "1. ReLU\n",
        "2. LeakyReLU"
      ],
      "metadata": {
        "id": "_ksueb8LEmDm"
      }
    },
    {
      "cell_type": "code",
      "source": [
        "# 활성화 함수 LeakyReLU 사용 \n",
        "model_Leaky = tf.keras.Sequential([\n",
        "    tf.keras.layers.Flatten(input_shape=(28,28)),\n",
        "    tf.keras.layers.Dense(64),\n",
        "    tf.keras.layers.BatchNormalization(),\n",
        "    tf.keras.layers.LeakyReLU(alpha=0.2),\n",
        "    tf.keras.layers.Dense(32),\n",
        "    tf.keras.layers.BatchNormalization(),\n",
        "    tf.keras.layers.LeakyReLU(alpha=0.2),\n",
        "    tf.keras.layers.Dense(10,activation='softmax')\n",
        "])\n",
        "model_Leaky.summary()"
      ],
      "metadata": {
        "id": "OYhsR_GnEwfa"
      },
      "execution_count": null,
      "outputs": []
    },
    {
      "cell_type": "code",
      "source": [
        "model_Leaky.compile(optimizer='adam',loss='sparse_categorical_crossentropy',metrics=['accuracy'])\n",
        "historyLeaky = model_Leaky.fit(x_train,y_train,validation_data=(x_test,y_test),epochs=10)"
      ],
      "metadata": {
        "id": "o4wZivDUFaEM"
      },
      "execution_count": null,
      "outputs": []
    },
    {
      "cell_type": "code",
      "source": [
        "plt.figure(figsize=(5,3))\n",
        "plt.plot(np.arange(1,11),history.history['val_loss'],color = 'red',label='No Setting')\n",
        "plt.plot(np.arange(1,11),historyLeaky.history['val_loss'],color = 'blue',label='Leaky')\n",
        "plt.legend()\n",
        "plt.show()"
      ],
      "metadata": {
        "id": "SpFaQZ_OF-lO"
      },
      "execution_count": null,
      "outputs": []
    }
  ]
}