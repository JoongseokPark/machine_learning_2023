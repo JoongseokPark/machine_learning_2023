{
  "nbformat": 4,
  "nbformat_minor": 0,
  "metadata": {
    "colab": {
      "private_outputs": true,
      "provenance": [],
      "authorship_tag": "ABX9TyMfRg1fu7aTezpFn/tUQVfM",
      "include_colab_link": true
    },
    "kernelspec": {
      "name": "python3",
      "display_name": "Python 3"
    },
    "language_info": {
      "name": "python"
    }
  },
  "cells": [
    {
      "cell_type": "markdown",
      "metadata": {
        "id": "view-in-github",
        "colab_type": "text"
      },
      "source": [
        "<a href=\"https://colab.research.google.com/github/JoongseokPark/machine_learning_2023/blob/main/%EA%B8%B0%EA%B3%84%ED%95%99%EC%8A%B5_8%EC%A3%BC%EC%B0%A8_2.ipynb\" target=\"_parent\"><img src=\"https://colab.research.google.com/assets/colab-badge.svg\" alt=\"Open In Colab\"/></a>"
      ]
    },
    {
      "cell_type": "code",
      "execution_count": null,
      "metadata": {
        "id": "MJiDTEj6adrC"
      },
      "outputs": [],
      "source": [
        "import tensorflow as tf\n",
        "import matplotlib.pyplot as plt\n",
        "import tensorflow_hub as tfhub"
      ]
    },
    {
      "cell_type": "markdown",
      "source": [
        "#객체 탐색 "
      ],
      "metadata": {
        "id": "LhEaw_UgaskR"
      }
    },
    {
      "cell_type": "code",
      "source": [
        "img = '/content/city.jpg'\n",
        "img = tf.io.read_file(img) #파일을 string으로 변환\n",
        "img = tf.image.decode_jpeg(img,channels=3) #문자를 숫자 텐서로 변환\n",
        "img = tf.image.convert_image_dtype(img,tf.float32) #0~1로 정규화\n",
        "\n",
        "plt.figure(figsize=(15,10))\n",
        "plt.imshow(img)"
      ],
      "metadata": {
        "id": "Wvbgdtygau59"
      },
      "execution_count": null,
      "outputs": []
    },
    {
      "cell_type": "code",
      "source": [
        "img.shape"
      ],
      "metadata": {
        "id": "sXaPGndCcvrA"
      },
      "execution_count": null,
      "outputs": []
    },
    {
      "cell_type": "code",
      "source": [
        "img_input = tf.expand_dims(img,0) #batch_size 추가, 4차원 텐서로 입력 \n",
        "img_input.shape"
      ],
      "metadata": {
        "id": "pHAkEGeDcyDf"
      },
      "execution_count": null,
      "outputs": []
    },
    {
      "cell_type": "code",
      "source": [
        "#Tensorflow hub에서 모델 가져오기 - FasterRCNN + InceptionResNet V2\n",
        "model = tfhub.load(\"https://tfhub.dev/google/faster_rcnn/openimages_v4/inception_resnet_v2/1\")"
      ],
      "metadata": {
        "id": "iaz5MLp_dFDl"
      },
      "execution_count": null,
      "outputs": []
    },
    {
      "cell_type": "code",
      "source": [
        "model.signatures.keys()"
      ],
      "metadata": {
        "id": "sMV5IV6idsV2"
      },
      "execution_count": null,
      "outputs": []
    },
    {
      "cell_type": "code",
      "source": [
        "#객체탐지 모델 생성\n",
        "obj_detector = model.signatures['default']\n",
        "obj_detector"
      ],
      "metadata": {
        "id": "bgHGRFk5dyNW"
      },
      "execution_count": null,
      "outputs": []
    },
    {
      "cell_type": "code",
      "source": [
        "#모델 사용해서 예측\n",
        "result = obj_detector(img_input)\n",
        "result.keys()"
      ],
      "metadata": {
        "id": "kWJrcyZjeGMF"
      },
      "execution_count": null,
      "outputs": []
    },
    {
      "cell_type": "code",
      "source": [
        "#탐지한 객체의 개수\n",
        "len(result[\"detection_scores\"])"
      ],
      "metadata": {
        "id": "2zZV_3MteNdf"
      },
      "execution_count": null,
      "outputs": []
    },
    {
      "cell_type": "code",
      "source": [
        "boxes = result[\"detection_boxes\"] \n",
        "labels = result[\"detection_class_entities\"]\n",
        "scores = result['detection_scores']\n",
        "names = result['detection_class_names']"
      ],
      "metadata": {
        "id": "-dFOhfZZefhO"
      },
      "execution_count": null,
      "outputs": []
    },
    {
      "cell_type": "code",
      "source": [
        "img_height,img_width = img.shape[0],img.shape[1]\n",
        "obj_to_detect = 10\n",
        "for i in range(min(obj_to_detect, boxes.shape[0])):\n",
        "  if scores[i] >= 0.2:\n",
        "    (ymax,xmin,ymin,xmax) = (boxes[i][0]*img_height,boxes[i][1]*img_width,\n",
        "                             boxes[i][2]*img_height,boxes[i][3]*img_width)\n",
        "  print(\"{} : {}, {}, {}, {}\".format(scores[i],ymax,xmin,ymin,xmax))"
      ],
      "metadata": {
        "id": "U2bunGX7fgu1"
      },
      "execution_count": null,
      "outputs": []
    },
    {
      "cell_type": "markdown",
      "source": [
        "##탐지 결과 시각화 "
      ],
      "metadata": {
        "id": "qS4hwb4nhFYV"
      }
    },
    {
      "cell_type": "code",
      "source": [
        "boxes = result[\"detection_boxes\"] \n",
        "labels = result[\"detection_class_entities\"]\n",
        "scores = result['detection_scores']\n",
        "\n",
        "#image size\n",
        "img_height,img_width = img.shape[0],img.shape[1]\n",
        "\n",
        "#max number of object detection\n",
        "obj_to_detect = 10\n",
        "\n",
        "for i in range(min(obj_to_detect, boxes.shape[0])):\n",
        "  if scores[i] >= 0.2:\n",
        "    (ymax,xmin,ymin,xmax) = (boxes[i][0]*img_height,boxes[i][1]*img_width,\n",
        "                             boxes[i][2]*img_height,boxes[i][3]*img_width)\n",
        "    \n",
        "    plt.imshow(img)\n",
        "    plt.plot([xmin,xmax,xmax,xmin,xmin],[ymin,ymin,ymax,ymax,ymin],\n",
        "             color='yellow',linewidth=2)\n",
        "    class_name = labels[i].numpy().decode('utf-8')\n",
        "    infer_score = int(scores[i].numpy()*100)\n",
        "    annotation = \"{} : {}%\".format(class_name,infer_score)\n",
        "    plt.text(xmin+10,ymax-10,annotation,color='white',backgroundcolor='blue',fontsize=5)"
      ],
      "metadata": {
        "id": "5knwbyLbg7jM"
      },
      "execution_count": null,
      "outputs": []
    }
  ]
}