{
  "nbformat": 4,
  "nbformat_minor": 0,
  "metadata": {
    "colab": {
      "provenance": [],
      "authorship_tag": "ABX9TyOpt/ZeH91rsrw9R84sqOap",
      "include_colab_link": true
    },
    "kernelspec": {
      "name": "python3",
      "display_name": "Python 3"
    },
    "language_info": {
      "name": "python"
    },
    "accelerator": "GPU",
    "gpuClass": "standard"
  },
  "cells": [
    {
      "cell_type": "markdown",
      "metadata": {
        "id": "view-in-github",
        "colab_type": "text"
      },
      "source": [
        "<a href=\"https://colab.research.google.com/github/JoongseokPark/machine_learning_2023/blob/main/%EA%B8%B0%EA%B3%84%ED%95%99%EC%8A%B5_7%EC%A3%BC%EC%B0%A8.ipynb\" target=\"_parent\"><img src=\"https://colab.research.google.com/assets/colab-badge.svg\" alt=\"Open In Colab\"/></a>"
      ]
    },
    {
      "cell_type": "markdown",
      "source": [
        "#인공신경망\n",
        "\n",
        "1. 은닉층의 뉴런 하나가 받는 값\n",
        "> 연결된 전 층의 값들을 각각 가중치에 곱한 총합이 뉴런의 값이 된다\n",
        "2. 뉴런에 활성 함수를 사용해서 받은 값을 바꾸어 다음 층으로 넘긴다\n",
        "> 주로 비선형 함수를 사용한다, 선형 함수는 층을 나누는 의미가 없기 때문이다\n",
        "- 활성 함수 목록\n",
        "1. Step Function \n",
        "> 출력은 0,1 뿐이다\n",
        "2. Sigmoid Function\n",
        "> 부드러워진 Step 함수, 하지만 Step과 마찬가지로 값이 작을 때 출력이 0, 클 때 1이다, 입력값이 작거나 클 때 미분값이 0에 수렴하므로, 딥러닝에는 맞지 않다(Vanishing Gradient 문제)\n",
        "3. Tanh Function\n",
        "> Sigmoid의 대체제이나 동일한 문제가 발견되었다\n",
        "4. Rectified Linear Unit (ReLU)\n",
        "> x > 0이면 기울기가 1인 직선이고, x < 0이면 함수값이 0이다, 위의 함수보다 학습이 빠르다, 구현이 빠르다, 하지만 x < 0에 대해서 출력이 0이므로 뉴런이 죽을 수도 있다\n",
        "5. Leaky ReLU\n",
        "> ReLU 함수와 거의 같으나, x < 0 일 때 출력이 (0 < a < 1) * x이다\n",
        "6. PReLU (Parametric ReLU)\n",
        "> Leaky ReLU와 거의 같지만, 파라미터 α가 추가되었다, 음수인 영역에서도 기울기를 학습할 수 있다\n",
        "7. ELU (Exponential Linear Unit)\n",
        "> ReLU의 장점을 가지고, 뉴런이 죽는 문제를 해결했다, x < 0일 때 α(e^x - 1) 출력을 가지므로, 기울기가 부드럽게 감소한다, 작은 수에서 수렴값은 -1 이다\n",
        "8. ReLU6\n",
        "> 임베디드 장치에서 데이터의 비트수를 제한하는 목적으로 ReLu의 값을 0~6으로 제한할 때 사용한다\n",
        "9. Maxout \n",
        "> ReLU의 장점과 뉴런이 죽는 문제를 해결했다, 하지만 계산해야 하는 양이 많고 복잡하다, Convex Hull Trick(CHT)의 동작 방식과 유사"
      ],
      "metadata": {
        "id": "F2UUDfuWmE7h"
      }
    },
    {
      "cell_type": "code",
      "execution_count": 30,
      "metadata": {
        "id": "ftVt9iSWl_vT"
      },
      "outputs": [],
      "source": [
        "import tensorflow as tf\n",
        "import keras\n",
        "import matplotlib.pyplot as plt\n",
        "import numpy as np"
      ]
    },
    {
      "cell_type": "markdown",
      "source": [
        "# 심층 신경망으로 이미지 분류\n",
        "1. 이미지 데이터셋 로드\n",
        "2. 이미지 데이터 정규화 = 수렴속도 증가\n",
        "3. Dense Layer에 입력하기 위한 차원축소 = reshape().shape\n",
        "4. 모델 생성 = Denselayer(노드 수, 활성화 함수)\n",
        "5. complie() = 컴파일(옵티마이저, 손실함수, 평가지표)\n",
        "6. fit() = 훈련\n",
        "7. "
      ],
      "metadata": {
        "id": "kcYLAvnXwD-t"
      }
    },
    {
      "cell_type": "code",
      "source": [
        "#케라스 내장 데이터셋 업로드\n",
        "mnist = tf.keras.datasets.mnist\n",
        "mnist"
      ],
      "metadata": {
        "colab": {
          "base_uri": "https://localhost:8080/"
        },
        "id": "bGJ80GK7w1tm",
        "outputId": "753882dd-66b5-4160-bbd4-542d62b3f278"
      },
      "execution_count": 2,
      "outputs": [
        {
          "output_type": "execute_result",
          "data": {
            "text/plain": [
              "<module 'keras.api._v2.keras.datasets.mnist' from '/usr/local/lib/python3.9/dist-packages/keras/api/_v2/keras/datasets/mnist/__init__.py'>"
            ]
          },
          "metadata": {},
          "execution_count": 2
        }
      ]
    },
    {
      "cell_type": "code",
      "source": [
        "#x에는 이미지가, y에는 정답이 들어있다\n",
        "(x_train, y_train),(x_test, y_test) = mnist.load_data()"
      ],
      "metadata": {
        "colab": {
          "base_uri": "https://localhost:8080/"
        },
        "id": "BkcYxw8YxB8I",
        "outputId": "582b8c91-b4f9-4098-a866-15029c285596"
      },
      "execution_count": 3,
      "outputs": [
        {
          "output_type": "stream",
          "name": "stdout",
          "text": [
            "Downloading data from https://storage.googleapis.com/tensorflow/tf-keras-datasets/mnist.npz\n",
            "11490434/11490434 [==============================] - 1s 0us/step\n"
          ]
        }
      ]
    },
    {
      "cell_type": "code",
      "source": [
        "fig,axes = plt.subplots(3,5)\n",
        "fig.set_size_inches(8,5)\n",
        "\n",
        "for i in range(15):\n",
        "  ax = axes[i//5, i%5]\n",
        "  ax.imshow(x_train[i], cmap = 'gray')\n",
        "  ax.axis('off')\n",
        "  ax.set_title(str(y_train[i]))\n",
        "\n",
        "plt.tight_layout()\n",
        "plt.show()"
      ],
      "metadata": {
        "colab": {
          "base_uri": "https://localhost:8080/",
          "height": 510
        },
        "id": "YDFSpfqBxQfq",
        "outputId": "cd157447-6cdc-41a6-dc06-4e0a8019d8b5"
      },
      "execution_count": 4,
      "outputs": [
        {
          "output_type": "display_data",
          "data": {
            "text/plain": [
              "<Figure size 800x500 with 15 Axes>"
            ],
            "image/png": "[encoded data removed]"
          },
          "metadata": {}
        }
      ]
    },
    {
      "cell_type": "code",
      "source": [
        "# [이미지 번호, 가로, 세로]\n",
        "x_train[0,10:15,10:15]"
      ],
      "metadata": {
        "colab": {
          "base_uri": "https://localhost:8080/"
        },
        "id": "_WyuSteNzIq1",
        "outputId": "6374539a-3d94-4865-d1d9-10508e876837"
      },
      "execution_count": 10,
      "outputs": [
        {
          "output_type": "execute_result",
          "data": {
            "text/plain": [
              "array([[  1, 154, 253,  90,   0],\n",
              "       [  0, 139, 253, 190,   2],\n",
              "       [  0,  11, 190, 253,  70],\n",
              "       [  0,   0,  35, 241, 225],\n",
              "       [  0,   0,   0,  81, 240]], dtype=uint8)"
            ]
          },
          "metadata": {},
          "execution_count": 10
        }
      ]
    },
    {
      "cell_type": "code",
      "source": [
        "#데이터 정규화 : 0~1 사이로 변환, 최대값으로 나누기\n",
        "x_train_n = x_train / x_train.max()"
      ],
      "metadata": {
        "id": "iTnGHiOxziU2"
      },
      "execution_count": 8,
      "outputs": []
    },
    {
      "cell_type": "code",
      "source": [
        "x_train_n[0,10:15,10:15]"
      ],
      "metadata": {
        "colab": {
          "base_uri": "https://localhost:8080/"
        },
        "id": "KdZs6Y12z6a2",
        "outputId": "d0676801-5276-4642-cd23-b8784165821a"
      },
      "execution_count": 11,
      "outputs": [
        {
          "output_type": "execute_result",
          "data": {
            "text/plain": [
              "array([[0.00392157, 0.60392157, 0.99215686, 0.35294118, 0.        ],\n",
              "       [0.        , 0.54509804, 0.99215686, 0.74509804, 0.00784314],\n",
              "       [0.        , 0.04313725, 0.74509804, 0.99215686, 0.2745098 ],\n",
              "       [0.        , 0.        , 0.1372549 , 0.94509804, 0.88235294],\n",
              "       [0.        , 0.        , 0.        , 0.31764706, 0.94117647]])"
            ]
          },
          "metadata": {},
          "execution_count": 11
        }
      ]
    },
    {
      "cell_type": "code",
      "source": [
        "#차원 축소\n",
        "x_train.reshape(60000,-1).shape "
      ],
      "metadata": {
        "colab": {
          "base_uri": "https://localhost:8080/"
        },
        "id": "ub9fwzAB0HDH",
        "outputId": "632c1fb8-dff8-410a-fd62-a823838a4751"
      },
      "execution_count": 12,
      "outputs": [
        {
          "output_type": "execute_result",
          "data": {
            "text/plain": [
              "(60000, 784)"
            ]
          },
          "metadata": {},
          "execution_count": 12
        }
      ]
    },
    {
      "cell_type": "code",
      "source": [
        "tf.keras.layers.Flatten()(x_train).shape"
      ],
      "metadata": {
        "colab": {
          "base_uri": "https://localhost:8080/"
        },
        "id": "JDwCesQc0bm9",
        "outputId": "b6cfbb97-afbc-4a48-d105-1bce4fb3bb38"
      },
      "execution_count": 13,
      "outputs": [
        {
          "output_type": "execute_result",
          "data": {
            "text/plain": [
              "TensorShape([60000, 784])"
            ]
          },
          "metadata": {},
          "execution_count": 13
        }
      ]
    },
    {
      "cell_type": "markdown",
      "source": [
        "모델 생성 "
      ],
      "metadata": {
        "id": "LLZoTJiE22Hd"
      }
    },
    {
      "cell_type": "code",
      "source": [
        "model = tf.keras.Sequential([tf.keras.layers.Flatten(input_shape = (28,28)),\n",
        "                             tf.keras.layers.Dense(256, activation = 'relu'),\n",
        "                             tf.keras.layers.Dense(64, activation = 'relu'),\n",
        "                             tf.keras.layers.Dense(32, activation = 'relu'),\n",
        "                             tf.keras.layers.Dense(10, activation = 'softmax'),\n",
        "                             ])"
      ],
      "metadata": {
        "id": "5rI5Lt_t21it"
      },
      "execution_count": 19,
      "outputs": []
    },
    {
      "cell_type": "code",
      "source": [
        "#활성화 함수\n",
        "tf.keras.layers.Dense(128, activation='relu')"
      ],
      "metadata": {
        "colab": {
          "base_uri": "https://localhost:8080/"
        },
        "id": "v2MwPwYf0vO8",
        "outputId": "1e0164d6-af92-431c-bf77-461dee1960e3"
      },
      "execution_count": 14,
      "outputs": [
        {
          "output_type": "execute_result",
          "data": {
            "text/plain": [
              "<keras.layers.core.dense.Dense at 0x7f7c8a203e20>"
            ]
          },
          "metadata": {},
          "execution_count": 14
        }
      ]
    },
    {
      "cell_type": "markdown",
      "source": [
        "입력 출력력"
      ],
      "metadata": {
        "id": "GvLJLeMq1X4t"
      }
    },
    {
      "cell_type": "code",
      "source": [
        "#출력층이 1인 경우 : sigmoid\n",
        "tf.keras.layers.Dense(1, activation='sigmoid')"
      ],
      "metadata": {
        "id": "l-O1sggO04c0"
      },
      "execution_count": null,
      "outputs": []
    },
    {
      "cell_type": "code",
      "source": [
        "#출력층 노드가 2개 이상인 경우 : softmax\n",
        "tf.keras.layers.Dense(10, activation='softmax')"
      ],
      "metadata": {
        "colab": {
          "base_uri": "https://localhost:8080/"
        },
        "id": "pAUwfYJf1HKl",
        "outputId": "d02a9d54-e70b-47b1-fcaf-cbe670939b51"
      },
      "execution_count": 15,
      "outputs": [
        {
          "output_type": "execute_result",
          "data": {
            "text/plain": [
              "<keras.layers.core.dense.Dense at 0x7f7c8a203760>"
            ]
          },
          "metadata": {},
          "execution_count": 15
        }
      ]
    },
    {
      "cell_type": "markdown",
      "source": [
        "손실 함수수"
      ],
      "metadata": {
        "id": "eCZ1q2i51aGF"
      }
    },
    {
      "cell_type": "code",
      "source": [
        "#출력 노드가 1개, sigmoid 활성화 함수일 경우\n",
        "model.compile(loss='binary_crossentropy')"
      ],
      "metadata": {
        "id": "OWwDnt0_1R8E"
      },
      "execution_count": 20,
      "outputs": []
    },
    {
      "cell_type": "code",
      "source": [
        "#softmax를 사용한 경우\n",
        "model.compile(loss='categorical_crossentropy')"
      ],
      "metadata": {
        "id": "AattY-Or1qu0"
      },
      "execution_count": 21,
      "outputs": []
    },
    {
      "cell_type": "markdown",
      "source": [
        "옵티마이저 = 손실을 낮추기 위해 사용하는 최적화 방법법"
      ],
      "metadata": {
        "id": "yKc6C0j614v8"
      }
    },
    {
      "cell_type": "code",
      "source": [
        "#클래스 인스턴스로 지정\n",
        "adam = tf.keras.optimizers.Adam(learning_rate=0.001)\n",
        "model.compile(optimizer=adam)\n",
        "\n",
        "#문자열로 지정\n",
        "model.compile(optimizer='adam')"
      ],
      "metadata": {
        "id": "Q_FIbHyx13NB"
      },
      "execution_count": 23,
      "outputs": []
    },
    {
      "cell_type": "markdown",
      "source": [
        "평가지표 "
      ],
      "metadata": {
        "id": "uLIi5sBZ2c99"
      }
    },
    {
      "cell_type": "code",
      "source": [
        "acc = tf.keras.metrics.SparseCategoricalAccuracy()"
      ],
      "metadata": {
        "id": "6VTj41lN2eO5"
      },
      "execution_count": 24,
      "outputs": []
    },
    {
      "cell_type": "markdown",
      "source": [
        "총합 정리 "
      ],
      "metadata": {
        "id": "DclMpD2l3yq9"
      }
    },
    {
      "cell_type": "code",
      "source": [
        "#모델의 뉴런 구조 + 옵티마이저 + 손실 함수 + 메트릭스 만들기 \n",
        "\n",
        "adam = tf.keras.optimizers.Adam(learning_rate=0.001)\n",
        "acc = tf.keras.metrics.SparseCategoricalAccuracy()\n",
        "model.compile(optimizer = adam,loss = 'sparse_categorical_crossentropy',metrics = [acc])"
      ],
      "metadata": {
        "id": "zZLeqICN3yPs"
      },
      "execution_count": 25,
      "outputs": []
    },
    {
      "cell_type": "markdown",
      "source": [
        "훈련 "
      ],
      "metadata": {
        "id": "56xo2LSh5CK0"
      }
    },
    {
      "cell_type": "code",
      "source": [
        "model.fit(x_train, y_train, validation_data= (x_test, y_test), epochs=10)"
      ],
      "metadata": {
        "colab": {
          "base_uri": "https://localhost:8080/"
        },
        "id": "vR4A2AVH5BDp",
        "outputId": "80b3004f-75d5-4ee4-d384-be3bc40a840b"
      },
      "execution_count": 26,
      "outputs": [
        {
          "output_type": "stream",
          "name": "stdout",
          "text": [
            "Epoch 1/10\n",
            "1875/1875 [==============================] - 13s 4ms/step - loss: 1.3157 - sparse_categorical_accuracy: 0.6465 - val_loss: 0.5901 - val_sparse_categorical_accuracy: 0.8428\n",
            "Epoch 2/10\n",
            "1875/1875 [==============================] - 7s 3ms/step - loss: 0.3403 - sparse_categorical_accuracy: 0.9167 - val_loss: 0.2098 - val_sparse_categorical_accuracy: 0.9469\n",
            "Epoch 3/10\n",
            "1875/1875 [==============================] - 7s 4ms/step - loss: 0.1720 - sparse_categorical_accuracy: 0.9538 - val_loss: 0.1622 - val_sparse_categorical_accuracy: 0.9599\n",
            "Epoch 4/10\n",
            "1875/1875 [==============================] - 6s 3ms/step - loss: 0.1363 - sparse_categorical_accuracy: 0.9624 - val_loss: 0.1250 - val_sparse_categorical_accuracy: 0.9664\n",
            "Epoch 5/10\n",
            "1875/1875 [==============================] - 7s 4ms/step - loss: 0.1122 - sparse_categorical_accuracy: 0.9702 - val_loss: 0.1443 - val_sparse_categorical_accuracy: 0.9631\n",
            "Epoch 6/10\n",
            "1875/1875 [==============================] - 6s 3ms/step - loss: 0.0976 - sparse_categorical_accuracy: 0.9733 - val_loss: 0.1320 - val_sparse_categorical_accuracy: 0.9675\n",
            "Epoch 7/10\n",
            "1875/1875 [==============================] - 7s 4ms/step - loss: 0.0790 - sparse_categorical_accuracy: 0.9786 - val_loss: 0.1399 - val_sparse_categorical_accuracy: 0.9666\n",
            "Epoch 8/10\n",
            "1875/1875 [==============================] - 6s 3ms/step - loss: 0.0739 - sparse_categorical_accuracy: 0.9809 - val_loss: 0.1444 - val_sparse_categorical_accuracy: 0.9657\n",
            "Epoch 9/10\n",
            "1875/1875 [==============================] - 7s 4ms/step - loss: 0.0677 - sparse_categorical_accuracy: 0.9816 - val_loss: 0.2146 - val_sparse_categorical_accuracy: 0.9471\n",
            "Epoch 10/10\n",
            "1875/1875 [==============================] - 7s 4ms/step - loss: 0.0594 - sparse_categorical_accuracy: 0.9840 - val_loss: 0.1201 - val_sparse_categorical_accuracy: 0.9731\n"
          ]
        },
        {
          "output_type": "execute_result",
          "data": {
            "text/plain": [
              "<keras.callbacks.History at 0x7f7c8a2034f0>"
            ]
          },
          "metadata": {},
          "execution_count": 26
        }
      ]
    },
    {
      "cell_type": "markdown",
      "source": [
        "검증 "
      ],
      "metadata": {
        "id": "sC6yqE035wN8"
      }
    },
    {
      "cell_type": "code",
      "source": [
        "model.evaluate(x_test, y_test)"
      ],
      "metadata": {
        "colab": {
          "base_uri": "https://localhost:8080/"
        },
        "id": "JP0dSvdU5vlQ",
        "outputId": "aa57c13f-2959-4bfd-8306-5ddb8af2298a"
      },
      "execution_count": 27,
      "outputs": [
        {
          "output_type": "stream",
          "name": "stdout",
          "text": [
            "313/313 [==============================] - 1s 4ms/step - loss: 0.1201 - sparse_categorical_accuracy: 0.9731\n"
          ]
        },
        {
          "output_type": "execute_result",
          "data": {
            "text/plain": [
              "[0.12014755606651306, 0.9731000065803528]"
            ]
          },
          "metadata": {},
          "execution_count": 27
        }
      ]
    },
    {
      "cell_type": "code",
      "source": [
        "#검증 결과 저장\n",
        "test_loss, test_acc = model.evaluate(x_test, y_test)\n",
        "\n",
        "print(\"검증 정확도 : \", test_acc)"
      ],
      "metadata": {
        "colab": {
          "base_uri": "https://localhost:8080/"
        },
        "id": "UfSaIBom56xV",
        "outputId": "0107e8a5-6396-4095-9953-a6e0e269585f"
      },
      "execution_count": 28,
      "outputs": [
        {
          "output_type": "stream",
          "name": "stdout",
          "text": [
            "313/313 [==============================] - 1s 2ms/step - loss: 0.1201 - sparse_categorical_accuracy: 0.9731\n",
            "검증 정확도 :  0.9731000065803528\n"
          ]
        }
      ]
    },
    {
      "cell_type": "code",
      "source": [
        "predictions = model.predict(x_test)\n",
        "predictions[0]\n",
        "# 출력값은 10개의 인덱스로 구성 = 각 인덱스 번호에 맞는 것일 확률 "
      ],
      "metadata": {
        "colab": {
          "base_uri": "https://localhost:8080/"
        },
        "id": "SWl42bXE6SEq",
        "outputId": "15949dae-4c0a-46ae-d2bd-2ae36109d402"
      },
      "execution_count": 29,
      "outputs": [
        {
          "output_type": "stream",
          "name": "stdout",
          "text": [
            "313/313 [==============================] - 1s 2ms/step\n"
          ]
        },
        {
          "output_type": "execute_result",
          "data": {
            "text/plain": [
              "array([5.3374692e-19, 3.3203671e-06, 1.6373888e-05, 8.6635828e-06,\n",
              "       5.8611231e-06, 9.0803780e-08, 1.5605111e-15, 9.9996412e-01,\n",
              "       5.1907401e-10, 1.5748574e-06], dtype=float32)"
            ]
          },
          "metadata": {},
          "execution_count": 29
        }
      ]
    },
    {
      "cell_type": "code",
      "source": [
        "predictions[0].max()"
      ],
      "metadata": {
        "colab": {
          "base_uri": "https://localhost:8080/"
        },
        "id": "xhoPvufS66qk",
        "outputId": "8c1f1023-e5e3-41f3-bd6b-d96e700e197d"
      },
      "execution_count": 31,
      "outputs": [
        {
          "output_type": "execute_result",
          "data": {
            "text/plain": [
              "0.9999641"
            ]
          },
          "metadata": {},
          "execution_count": 31
        }
      ]
    },
    {
      "cell_type": "code",
      "source": [
        "#argmax = 리스트의 인덱스 중 내용물이 가장 큰 것을 반환\n",
        "np.argmax(predictions[0])"
      ],
      "metadata": {
        "colab": {
          "base_uri": "https://localhost:8080/"
        },
        "id": "NBT3x1LX7FLX",
        "outputId": "876c44d0-5794-40b2-f035-b87f39dd3ff1"
      },
      "execution_count": 32,
      "outputs": [
        {
          "output_type": "execute_result",
          "data": {
            "text/plain": [
              "7"
            ]
          },
          "metadata": {},
          "execution_count": 32
        }
      ]
    },
    {
      "cell_type": "code",
      "source": [
        "def get_one_result(idx):\n",
        "  img, y_true, y_pred, confidence = x_test[idx], y_test[idx], np.argmax(predictions[idx]), 100 * np.max(predictions[idx])\n",
        "  return img, y_true, y_pred, confidence"
      ],
      "metadata": {
        "id": "pBUgT-wz7mQM"
      },
      "execution_count": 37,
      "outputs": []
    },
    {
      "cell_type": "code",
      "source": [
        "fig,axes = plt.subplots(3,5)\n",
        "fig.set_size_inches(12,10)\n",
        "\n",
        "for i in range(15):\n",
        "  ax = axes[i//5, i%5]\n",
        "  img, y_true, y_pred, confidence = get_one_result(i) \n",
        "  ax.imshow(x_train[i], cmap = 'gray')\n",
        "  #x y 눈금\n",
        "  ax.set_xticks([])\n",
        "  ax.set_yticks([])\n",
        "  ax.set_title(f'True : {y_true}', fontsize = 12)\n",
        "  ax.set_xlabel(f'Prediction : {y_pred}\\nConfidence : {confidence:.2f}%', fontsize = 10)\n",
        "\n",
        "plt.tight_layout()\n",
        "plt.show()"
      ],
      "metadata": {
        "colab": {
          "base_uri": "https://localhost:8080/",
          "height": 966
        },
        "id": "tDl-PlNR8eo7",
        "outputId": "97cbb002-dda3-434c-c06a-f0b5f1eccece"
      },
      "execution_count": 38,
      "outputs": [
        {
          "output_type": "display_data",
          "data": {
            "text/plain": [
              "<Figure size 1200x1000 with 15 Axes>"
            ],
            "image/png": "[encoded data removed]"
          },
          "metadata": {}
        }
      ]
    }
  ]
}