{
  "nbformat": 4,
  "nbformat_minor": 0,
  "metadata": {
    "colab": {
      "private_outputs": true,
      "provenance": [],
      "authorship_tag": "ABX9TyOBzQKhOagJNmEqAPFnauvL",
      "include_colab_link": true
    },
    "kernelspec": {
      "name": "python3",
      "display_name": "Python 3"
    },
    "language_info": {
      "name": "python"
    }
  },
  "cells": [
    {
      "cell_type": "markdown",
      "metadata": {
        "id": "view-in-github",
        "colab_type": "text"
      },
      "source": [
        "<a href=\"https://colab.research.google.com/github/JoongseokPark/machine_learning_2023/blob/main/%EA%B8%B0%EA%B3%84%ED%95%99%EC%8A%B5_3%EC%A3%BC%EC%B0%A8.ipynb\" target=\"_parent\"><img src=\"https://colab.research.google.com/assets/colab-badge.svg\" alt=\"Open In Colab\"/></a>"
      ]
    },
    {
      "cell_type": "markdown",
      "source": [
        "#반복문\n",
        "- for 문\n",
        "> for(**조건문**): (줄맞춤)내용 \n",
        "-> 간단한 반복을 위해 (i in range(반복횟수))를 사용"
      ],
      "metadata": {
        "id": "YhmcAP5NYJ0i"
      }
    },
    {
      "cell_type": "code",
      "execution_count": null,
      "metadata": {
        "id": "NYJxAt_4YBpe"
      },
      "outputs": [],
      "source": [
        "a = [1,3,5,7,9,11,13]\n",
        "num = 0\n",
        "for i in a: \n",
        "#반복동안 i 에는 리스트 a의 원소가 차례로 들어간다. \n",
        "  if num%2 == 0:\n",
        "    print(i)\n",
        "#반복은 i 에 리스트의 마지막 원소인 13이 들어간 이후에 종료된다\n",
        "  num+=1"
      ]
    },
    {
      "cell_type": "code",
      "source": [
        "a = [1,2,3]\n",
        "b = [3,4,5]\n",
        "c = [4,5,6]\n",
        "\n",
        "for i in range(3):\n",
        "  a.append(i) #리스트 이름.append(변수) 를 사용해 리스트에 원소를 더할 수 있다\n",
        "print(a)"
      ],
      "metadata": {
        "id": "sMWPMr2saINf"
      },
      "execution_count": null,
      "outputs": []
    },
    {
      "cell_type": "code",
      "source": [
        "U1 = a + b\n",
        "U1"
      ],
      "metadata": {
        "id": "C2vbPR1bbNii"
      },
      "execution_count": null,
      "outputs": []
    },
    {
      "cell_type": "code",
      "source": [
        "a = [1,2,3]\n",
        "b = [3,4,5]\n",
        "\n",
        "for i in b:\n",
        "  print(i)\n",
        "  if i in a:\n",
        "    b.remove(i)\n",
        "\n",
        "print(a+b)"
      ],
      "metadata": {
        "id": "qhvBWPJIehtt"
      },
      "execution_count": null,
      "outputs": []
    },
    {
      "cell_type": "code",
      "source": [
        "#a 와 b의 합집합 구하기 ( 중복 없음 )\n",
        "\n",
        "a = [1,2,3]\n",
        "b = [2,3,4,5]\n",
        "\n",
        "for i in b: #b의 원소를 고른다\n",
        "  print(i)\n",
        "  if i not in a: #만약 b에서 고른 원소가 a 안에 없으면\n",
        "    a.append(i) #a 에 없는 원소를 a를 더한다\n",
        "\n",
        "print(a)"
      ],
      "metadata": {
        "id": "seqeVKYObaTZ"
      },
      "execution_count": null,
      "outputs": []
    },
    {
      "cell_type": "code",
      "source": [
        "# a 와 b의 차집합 구하기\n",
        "# 차집합 = a에만 있는 원소\n",
        "\n",
        "a = [1,2,3,4,5,6,7,8,9]\n",
        "b = [3,4,5,6,7,8,9]\n",
        "\n",
        "for i in b: #b의 원소를 골라\n",
        "  if i in a: #a의 원소와 겹치면\n",
        "    a.remove(i) #겹친 원소를 지운다\n",
        "\n",
        "print(a) #b와 겹쳐진 원소가 없는 a가 출력된다"
      ],
      "metadata": {
        "id": "LFwLjSfrfsUf"
      },
      "execution_count": null,
      "outputs": []
    },
    {
      "cell_type": "markdown",
      "source": [
        "#리스트 함수\n",
        "- 리스트.append(변수) = 변수를 리스트에 더하기\n",
        "- 리스트.insert(위치,변수) = 리스트의 인덱스 위치에 변수 넣기\n",
        "- 리스트.sort() = 리스트 안의 원소 오름차순 정렬\n",
        "- 리스트.reverse() = 리스트 역순 배열, 가장 뒤의 원소가 가장 앞으로 온다\n",
        "- 리스트.index(변수) = 리스트에서 변수의 위치를 반환한다, 없다면 ValueError 발생\n",
        "- 리스트.remove(변수) = 리스트에서 변수와 같은 원소가 있으면 그 원소를 하나 삭제한다, 같은 원소가 없다면 에러 발생\n",
        "- 리스트.pop() = 리스트의 가장 뒤의 원소를 출력하며 리스트에서는 삭제한다, 괄호 안에 인덱스를 넣어 특정 위치의 원소를 지정할 수도 있다.\n",
        "- 리스트.count(변수) = 리스트 안에 있는 변수의 개수를 출력한다.\n",
        "- 리스트.extend(리스트형) = 리스트에 다른 리스트를 더한다. "
      ],
      "metadata": {
        "id": "bQNt3wZbh9xC"
      }
    },
    {
      "cell_type": "markdown",
      "source": [
        "# While 문 \n",
        "- 조건에 맞다면 반복문 안의 내용을 계속한다.\n",
        "> while (조건문): (들여쓰기) 내용\n",
        "- 조건에 쓰이는 변수의 변화와 초기화가 필요하다"
      ],
      "metadata": {
        "id": "3AgBwv5WkOyh"
      }
    },
    {
      "cell_type": "code",
      "source": [
        "#while 문으로 구구단 출력\n",
        "\n",
        "i = 1 #초기값 지정\n",
        "j = 1\n",
        "\n",
        "while i<10: #단의 반복\n",
        "  while j<10: #단 안에서의 곱셈 반복\n",
        "    print(\"{} X {} = {}\".format(i,j,i*j)) #구구단 내용 출력\n",
        "    j = j + 1 #반복 조건의 변수 변화\n",
        "  i+=1 #반복 조건의 변수 변화\n",
        "  j = 1 #초기화\n",
        "  print(\"\\n\") #단 사이의 구분을 위한 줄넘김"
      ],
      "metadata": {
        "id": "Pddf5NhLkg26"
      },
      "execution_count": null,
      "outputs": []
    },
    {
      "cell_type": "code",
      "source": [
        "#while로 일정 크기 이하의 팩토리얼 출력\n",
        "\n",
        "fac = 1\n",
        "num = 1\n",
        "\n",
        "while fac < 1000:\n",
        "  fac *= num\n",
        "  num += 1\n",
        "  print(\"{} {}\".format(fac,num))"
      ],
      "metadata": {
        "id": "jnA2LhPCpy9S"
      },
      "execution_count": null,
      "outputs": []
    },
    {
      "cell_type": "code",
      "source": [
        "#로또 번호 6개 출력\n",
        "import random\n",
        "\n",
        "lotto_list = []\n",
        "\n",
        "while len(lotto_list) < 6:\n",
        "  lotto_list.append(random.randrange(1,47))\n",
        "\n",
        "print(lotto_list)"
      ],
      "metadata": {
        "id": "R3Z3DZL3qf3K"
      },
      "execution_count": null,
      "outputs": []
    },
    {
      "cell_type": "code",
      "source": [
        "# 중복되지 않는 로또 번호 6개 출력\n",
        "\n",
        "num_range = list(range(1,47))\n",
        "random.shuffle(num_range)\n",
        "\n",
        "lotto = []\n",
        "i = 0\n",
        "\n",
        "while len(lotto) < 6:\n",
        "  lotto.append(num_range[i])\n",
        "  i += 1\n",
        "\n",
        "print(lotto)"
      ],
      "metadata": {
        "id": "8bxflaJtryat"
      },
      "execution_count": null,
      "outputs": []
    },
    {
      "cell_type": "markdown",
      "source": [
        "#숫자 샘플링\n",
        "\n",
        "\n",
        "1.   random() : 실수 반환\n",
        "2.   randinf(a,b) : a와 b사이 정수 반환\n",
        "3.   nuiform(a,b) : a와 b사이 실수 반환\n",
        "4. randrange(a,b,c) : a와 b사이의 c간격 숫자 반환\n",
        "5. shuffle(집합) : 집합의 원소 섞기\n",
        "6. sample(집합, 수) : 집합에서 수만큼 추출\n",
        "\n"
      ],
      "metadata": {
        "id": "nbBFiqQ9uuID"
      }
    },
    {
      "cell_type": "markdown",
      "source": [
        "과제\n",
        "- 소수 찾기\n",
        "- 약수 찾기\n",
        "- 소인수 찾기\n",
        "- 최대공약수, 최소공배수 찾기"
      ],
      "metadata": {
        "id": "pNRIKl5Gvqsj"
      }
    },
    {
      "cell_type": "code",
      "source": [
        "#소수 찾기\n",
        "num = 1\n",
        "is_prime = 1 #소수라면 1 소수가 아니라면 0\n",
        "\n",
        "while num < 1500: #임의로 정한 한계\n",
        "  \n",
        "  prime = 1 #소수 확인 변수의 초기화\n",
        "  while prime <= num: #현재 확인하는 숫자만큼 커질 때까지 반복\n",
        "    if prime != 1 and prime != num and num % prime == 0: #소수가 아닌 수의 조건\n",
        "      is_prime = 0 #현재 숫자가 소수가 아닌 것을 표시 \n",
        "      break #소수 확인용 반복 종료\n",
        "    prime += 1 #소수 확인 변수 값 증가\n",
        "  if is_prime == 1: #현재 숫자가 소수일 경우\n",
        "    print(\"{} is Prime Number\".format(num)) #메세지 출력 \n",
        "  num += 1 #현재 숫자 증가\n",
        "  is_prime = 1"
      ],
      "metadata": {
        "id": "VgbmYD2Lv1Gi"
      },
      "execution_count": null,
      "outputs": []
    },
    {
      "cell_type": "code",
      "source": [
        "#약수 찾기\n",
        "print(\"Enter the number :\")\n",
        "num = int(input())\n",
        "divisor = num #약수로 확인할 변수 \n",
        "\n",
        "while divisor > 0: #약수 확인용 변수가 자연수일 동안 반복\n",
        "  if num % divisor == 0: #나누어 떨어지면\n",
        "    print(\"{} is divisor of {}\".format(divisor,num)) #확인용 변수는 입력한 숫자의 약수이다\n",
        "  divisor -= 1 #확인용 변수 값 변경"
      ],
      "metadata": {
        "id": "YmIK2iWoyk4p"
      },
      "execution_count": null,
      "outputs": []
    },
    {
      "cell_type": "code",
      "source": [
        "#소인수 찾기\n",
        "print(\"Enter the number :\")\n",
        "num = int(input())\n",
        "divisor = num\n",
        "is_prime = 1\n",
        "\n",
        "while divisor > 0:\n",
        "  if num % divisor == 0: #약수인지 먼저 확인\n",
        "\n",
        "    prime = 1\n",
        "    while prime <= divisor: #소수인지 확인\n",
        "      if prime != 1 and prime != divisor and divisor % prime == 0:\n",
        "        is_prime = 0\n",
        "        break\n",
        "      prime += 1\n",
        "\n",
        "    if is_prime == 1:\n",
        "      print(\"{} is Prime factor of {}\".format(divisor,num))\n",
        "  divisor -= 1\n",
        "  is_prime = 1"
      ],
      "metadata": {
        "id": "QAgohe6dzT6Y"
      },
      "execution_count": null,
      "outputs": []
    },
    {
      "cell_type": "code",
      "source": [
        "#최대 공약수와 최소 공배수\n",
        "\n",
        "num1 = int(input())\n",
        "num2 = int(input())\n",
        "\n",
        "num1_divisor = [] #첫번째 숫자의 약수 목록\n",
        "num2_divisor = [] #두번째 숫자의 약수 목록\n",
        "\n",
        "divisor1 = num1\n",
        "divisor2 = num2\n",
        "\n",
        "while divisor1 > 0: #약수 확인\n",
        "  if num1 % divisor1 == 0:\n",
        "    num1_divisor.append(divisor1)\n",
        "  divisor1 -= 1\n",
        "\n",
        "while divisor2 > 0: #약수 확인\n",
        "  if num2 % divisor2 == 0:\n",
        "    num2_divisor.append(divisor2)\n",
        "  divisor2 -= 1\n",
        "\n",
        "greatest_common_divisor = 0 #최대 공약수 저장 변수\n",
        "for i in num1_divisor: #첫번째 약수 중에서\n",
        "  if i in num2_divisor: #두번째 약수에도 있는 수라면\n",
        "    greatest_common_divisor = i #변수에 저장하고\n",
        "    break #확인을 종료한다\n",
        "\n",
        "disjoint1 = num1 / greatest_common_divisor #첫번째 수의 서로소\n",
        "disjoint2 = num2 / greatest_common_divisor #두번째 수의 서로소\n",
        "\n",
        "common_multiple = disjoint1 * disjoint2 * greatest_common_divisor #최소공배수 공식\n",
        "\n",
        "print(\"{}와 {} 사이의 최대 공약수 = {}\".format(num1,num2,greatest_common_divisor))\n",
        "print(\"{}와 {} 사이의 최대 공약수 = {}\".format(num1,num2,common_multiple))"
      ],
      "metadata": {
        "id": "dwaMmZNc1hEU"
      },
      "execution_count": null,
      "outputs": []
    }
  ]
}